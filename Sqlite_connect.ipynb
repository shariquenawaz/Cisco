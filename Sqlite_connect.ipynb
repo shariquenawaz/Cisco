{
 "cells": [
  {
   "cell_type": "code",
   "execution_count": 1,
   "metadata": {},
   "outputs": [],
   "source": [
    "import sqlite3 "
   ]
  },
  {
   "cell_type": "code",
   "execution_count": 2,
   "metadata": {},
   "outputs": [
    {
     "name": "stdout",
     "output_type": "stream",
     "text": [
      "Opened database successfully\n",
      "Table created successfully\n"
     ]
    }
   ],
   "source": [
    "conn = sqlite3.connect('cisco.db')  \n",
    "  \n",
    "print (\"Opened database successfully\")\n",
    "\n",
    "conn.execute('''CREATE TABLE Employees \n",
    "       (ID INT PRIMARY KEY     NOT NULL, \n",
    "       NAME           TEXT    NOT NULL, \n",
    "       AGE            INT     NOT NULL, \n",
    "       ADDRESS        CHAR(50), \n",
    "       SALARY         REAL);''')  \n",
    "\n",
    "print (\"Table created successfully\")  \n",
    "  \n",
    "#conn.close()  "
   ]
  },
  {
   "cell_type": "code",
   "execution_count": null,
   "metadata": {},
   "outputs": [],
   "source": [
    "conn.execute(\"INSERT INTO Employees (ID,NAME,AGE,ADDRESS,SALARY) VALUES (1, 'Ajeet', 27, 'Delhi', 20000.00 )\")  \n",
    "  \n",
    "conn.execute(\"INSERT INTO Employees (ID,NAME,AGE,ADDRESS,SALARY) VALUES (2, 'Allen', 22, 'London', 25000.00 )\")\n",
    "  \n",
    "conn.execute(\"INSERT INTO Employees (ID,NAME,AGE,ADDRESS,SALARY) VALUES (3, 'Mark', 29, 'CA', 200000.00 )\")  \n",
    "  \n",
    "conn.execute(\"INSERT INTO Employees (ID,NAME,AGE,ADDRESS,SALARY) VALUES (4, 'Kanchan', 22, 'Ghaziabad ', 65000.00 )\") \n",
    "  \n",
    "conn.commit()  \n",
    "print (\"Records inserted successfully\")  "
   ]
  },
  {
   "cell_type": "code",
   "execution_count": 6,
   "metadata": {},
   "outputs": [],
   "source": [
    "conn.close()  "
   ]
  },
  {
   "cell_type": "code",
   "execution_count": null,
   "metadata": {},
   "outputs": [],
   "source": []
  },
  {
   "cell_type": "code",
   "execution_count": 7,
   "metadata": {},
   "outputs": [
    {
     "name": "stdout",
     "output_type": "stream",
     "text": [
      "(1, 'Ajeet', 27, 'Delhi', 20000.0)\n",
      "(2, 'Allen', 22, 'London', 25000.0)\n",
      "(3, 'Mark', 29, 'CA', 200000.0)\n",
      "(4, 'Kanchan', 22, 'Ghaziabad ', 65000.0)\n"
     ]
    }
   ],
   "source": [
    "import sqlite3  \n",
    "  \n",
    "conn = sqlite3.connect('cisco.db')  \n",
    "  \n",
    "data = conn.execute(\"select * from Employees\");  \n",
    "\n",
    "for row in data:\n",
    "   print(row) \n",
    "#   print (\"ID = \", row[0])  \n",
    "#   print (\"NAME = \", row[1])  \n",
    "#   print (\"ADDRESS = \", row[2])  \n",
    "#   print (\"SALARY = \", row[3]) \n",
    "  \n",
    "conn.close(); "
   ]
  },
  {
   "cell_type": "code",
   "execution_count": 13,
   "metadata": {},
   "outputs": [],
   "source": [
    "import sqlite3  \n",
    "  \n",
    "conn = sqlite3.connect('cisco.db')  \n",
    "  \n",
    "data = conn.execute(\"select * from Employees\");  "
   ]
  },
  {
   "cell_type": "code",
   "execution_count": 11,
   "metadata": {},
   "outputs": [
    {
     "name": "stdout",
     "output_type": "stream",
     "text": [
      "(1, 'Ajeet', 27, 'Delhi', 20000.0)\n",
      "(2, 'Allen', 22, 'London', 25000.0)\n",
      "(3, 'Mark', 29, 'CA', 200000.0)\n",
      "(4, 'Kanchan', 22, 'Ghaziabad ', 65000.0)\n"
     ]
    }
   ],
   "source": [
    "for row in data.fetchall():\n",
    "   print(row) \n",
    "#   print (\"ID = \", row[0])  \n",
    "#   print (\"NAME = \", row[1])  \n",
    "#   print (\"ADDRESS = \", row[2])  \n",
    "#   print (\"SALARY = \", row[3]) \n",
    "  \n",
    "conn.close(); "
   ]
  },
  {
   "cell_type": "markdown",
   "metadata": {},
   "source": [
    "# Use Case"
   ]
  },
  {
   "cell_type": "code",
   "execution_count": 18,
   "metadata": {},
   "outputs": [
    {
     "name": "stdout",
     "output_type": "stream",
     "text": [
      "{'id': [1, 2, 3, 4], 'name': ['Ajeet', 'Allen', 'Mark', 'Kanchan'], 'address': [27, 22, 29, 22], 'salary': ['Delhi', 'London', 'CA', 'Ghaziabad ']}\n"
     ]
    }
   ],
   "source": [
    "import sqlite3  \n",
    "  \n",
    "conn = sqlite3.connect('cisco.db')  \n",
    "  \n",
    "data = conn.execute(\"select * from Employees\");  \n",
    "\n",
    "d = {'id': [], 'name': [], 'address': [], 'salary': []}\n",
    "\n",
    "for row in data:\n",
    "#    print(row)\n",
    "    d['id'].append(row[0])\n",
    "    d['name'].append(row[1])\n",
    "    d['address'].append(row[2])\n",
    "    d['salary'].append(row[3])\n",
    "    \n",
    "#   print (\"ID = \", row[0])  \n",
    "#   print (\"NAME = \", row[1])  \n",
    "#   print (\"ADDRESS = \", row[2])  \n",
    "#   print (\"SALARY = \", row[3]) \n",
    "\n",
    "print(d)\n",
    "conn.close(); "
   ]
  }
 ],
 "metadata": {
  "kernelspec": {
   "display_name": "Python 3",
   "language": "python",
   "name": "python3"
  },
  "language_info": {
   "codemirror_mode": {
    "name": "ipython",
    "version": 3
   },
   "file_extension": ".py",
   "mimetype": "text/x-python",
   "name": "python",
   "nbconvert_exporter": "python",
   "pygments_lexer": "ipython3",
   "version": "3.7.1"
  }
 },
 "nbformat": 4,
 "nbformat_minor": 2
}
