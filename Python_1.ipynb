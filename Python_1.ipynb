{
 "cells": [
  {
   "cell_type": "markdown",
   "metadata": {},
   "source": [
    "# __Types of python to run__\n",
    "\n",
    "1. Immediate mode - cmd- python\n",
    "2. Script mode - python file.py\n",
    "3. IDE - Integrated Developement environment- spyder, pycharm, jupyter notebook"
   ]
  },
  {
   "cell_type": "code",
   "execution_count": 8,
   "metadata": {},
   "outputs": [
    {
     "data": {
      "text/plain": [
       "' Multiple line comment '"
      ]
     },
     "execution_count": 8,
     "metadata": {},
     "output_type": "execute_result"
    }
   ],
   "source": [
    "#single line Comment\n",
    "\n",
    "\"\"\" Multiple line comment \"\"\"\n",
    "#print(\"Hi\")\n"
   ]
  },
  {
   "cell_type": "code",
   "execution_count": 1,
   "metadata": {},
   "outputs": [
    {
     "name": "stdout",
     "output_type": "stream",
     "text": [
      "2019\n",
      "2020\n"
     ]
    }
   ],
   "source": [
    "# Case sensitive language\n",
    "\n",
    "year = 2019\n",
    "Year = 2020\n",
    "\n",
    "print(year)\n",
    "print(Year)\n"
   ]
  },
  {
   "cell_type": "markdown",
   "metadata": {},
   "source": [
    "## Operators\n",
    "\n",
    "__Arithmetic Operators__"
   ]
  },
  {
   "cell_type": "code",
   "execution_count": 2,
   "metadata": {
    "collapsed": true
   },
   "outputs": [],
   "source": [
    "# + Addition\n",
    "# - Subtraction\n",
    "# * Multiplication\n",
    "# / Division\n",
    "# % Mod (the remainder after dividing)\n",
    "# ** Exponentiation (note that ^ does not do this operation, as you might have seen in other languages)\n",
    "# // Divides and rounds down to the nearest intege \n",
    "\n"
   ]
  },
  {
   "cell_type": "code",
   "execution_count": 6,
   "metadata": {
    "collapsed": true
   },
   "outputs": [],
   "source": [
    "#print(2+1*2/2)\n"
   ]
  },
  {
   "cell_type": "markdown",
   "metadata": {},
   "source": [
    "## Try some of the arithmetic operators and see the response\n",
    "\n"
   ]
  },
  {
   "cell_type": "code",
   "execution_count": null,
   "metadata": {
    "collapsed": true
   },
   "outputs": [],
   "source": []
  },
  {
   "cell_type": "markdown",
   "metadata": {},
   "source": [
    "## __Variables and Assignment Operators__"
   ]
  },
  {
   "cell_type": "code",
   "execution_count": 5,
   "metadata": {},
   "outputs": [
    {
     "data": {
      "text/plain": [
       "75000"
      ]
     },
     "execution_count": 5,
     "metadata": {},
     "output_type": "execute_result"
    }
   ],
   "source": [
    "# salary is a variable and is asssigned a value 75000 using '=' operator\n",
    "salary = 75000\n",
    "salary"
   ]
  },
  {
   "cell_type": "code",
   "execution_count": 7,
   "metadata": {},
   "outputs": [
    {
     "name": "stdout",
     "output_type": "stream",
     "text": [
      "3 4 5\n"
     ]
    }
   ],
   "source": [
    "# Multiple variables can also be assigned via a single line  \n",
    "x = 3\n",
    "y = 4\n",
    "z = 5\n",
    "\n",
    "x, y, z = 3, 4, 5\n",
    "print(x,y,z)"
   ]
  },
  {
   "cell_type": "markdown",
   "metadata": {},
   "source": [
    "### Get inputs from the user during run time"
   ]
  },
  {
   "cell_type": "markdown",
   "metadata": {},
   "source": [
    "Try input() function"
   ]
  },
  {
   "cell_type": "code",
   "execution_count": 16,
   "metadata": {},
   "outputs": [],
   "source": [
    "input?"
   ]
  },
  {
   "cell_type": "code",
   "execution_count": 21,
   "metadata": {},
   "outputs": [
    {
     "name": "stdout",
     "output_type": "stream",
     "text": [
      "Enter your monthly salary details to check for your loan Eligibility:5000\n",
      " You are eligible for 10,00000 Lakh rupees for a salary of: 5000\n"
     ]
    }
   ],
   "source": [
    "salary=int(input('Enter your monthly salary details to check for your loan Eligibility:'))\n",
    "print(' You are eligible for 10,00000 Lakh rupees for a salary of:', salary)"
   ]
  },
  {
   "cell_type": "code",
   "execution_count": null,
   "metadata": {},
   "outputs": [],
   "source": []
  },
  {
   "cell_type": "code",
   "execution_count": 11,
   "metadata": {
    "collapsed": true
   },
   "outputs": [],
   "source": [
    "\n",
    "#1. Only use ordinary letters, numbers and underscores in your variable names. \n",
    "#They can’t have spaces, and need to start with a letter or underscore.\n",
    "\n",
    "#2. You can’t use reserved words or built-in identifiers\n",
    "\n",
    "#3.The pythonic way to name variables is to use all lowercase letters and underscores to separate words."
   ]
  },
  {
   "cell_type": "markdown",
   "metadata": {},
   "source": [
    "### How to get help \n",
    "\n",
    "*Just type function_name? i.e<input?>*"
   ]
  },
  {
   "cell_type": "code",
   "execution_count": null,
   "metadata": {},
   "outputs": [],
   "source": []
  },
  {
   "cell_type": "markdown",
   "metadata": {},
   "source": [
    "_**Alternative Assignment method**_"
   ]
  },
  {
   "cell_type": "code",
   "execution_count": 24,
   "metadata": {},
   "outputs": [
    {
     "data": {
      "text/plain": [
       "6000"
      ]
     },
     "execution_count": 24,
     "metadata": {},
     "output_type": "execute_result"
    }
   ],
   "source": [
    "#Alternative Assignment method\n",
    "#To add 1000 to the salary variable, it can be done as below\n",
    "\n",
    "salary+=1000\n",
    "salary"
   ]
  },
  {
   "cell_type": "code",
   "execution_count": 60,
   "metadata": {
    "collapsed": true
   },
   "outputs": [],
   "source": [
    "a=100\n",
    "b=200"
   ]
  },
  {
   "cell_type": "code",
   "execution_count": 61,
   "metadata": {},
   "outputs": [
    {
     "data": {
      "text/plain": [
       "200"
      ]
     },
     "execution_count": 61,
     "metadata": {},
     "output_type": "execute_result"
    }
   ],
   "source": [
    "a\n",
    "b"
   ]
  },
  {
   "cell_type": "code",
   "execution_count": 63,
   "metadata": {},
   "outputs": [
    {
     "data": {
      "text/plain": [
       "int"
      ]
     },
     "execution_count": 63,
     "metadata": {},
     "output_type": "execute_result"
    }
   ],
   "source": [
    "type(a)"
   ]
  },
  {
   "cell_type": "code",
   "execution_count": 65,
   "metadata": {
    "collapsed": true
   },
   "outputs": [],
   "source": [
    "a='hi'"
   ]
  },
  {
   "cell_type": "code",
   "execution_count": 71,
   "metadata": {},
   "outputs": [
    {
     "name": "stdout",
     "output_type": "stream",
     "text": [
      "hi 200\n"
     ]
    }
   ],
   "source": [
    "print(a+' ' +str(b))"
   ]
  },
  {
   "cell_type": "code",
   "execution_count": 70,
   "metadata": {},
   "outputs": [
    {
     "ename": "TypeError",
     "evalue": "must be str, not int",
     "output_type": "error",
     "traceback": [
      "\u001b[1;31m---------------------------------------------------------------------------\u001b[0m",
      "\u001b[1;31mTypeError\u001b[0m                                 Traceback (most recent call last)",
      "\u001b[1;32m<ipython-input-70-ddf139e7f728>\u001b[0m in \u001b[0;36m<module>\u001b[1;34m()\u001b[0m\n\u001b[1;32m----> 1\u001b[1;33m \u001b[0mprint\u001b[0m\u001b[1;33m(\u001b[0m\u001b[0ma\u001b[0m\u001b[1;33m+\u001b[0m\u001b[0mb\u001b[0m\u001b[1;33m)\u001b[0m\u001b[1;33m\u001b[0m\u001b[0m\n\u001b[0m",
      "\u001b[1;31mTypeError\u001b[0m: must be str, not int"
     ]
    }
   ],
   "source": [
    "print(a+b)"
   ]
  },
  {
   "cell_type": "code",
   "execution_count": 62,
   "metadata": {},
   "outputs": [
    {
     "name": "stdout",
     "output_type": "stream",
     "text": [
      "100\n",
      "200\n"
     ]
    }
   ],
   "source": [
    "print(a)\n",
    "print(b)\n"
   ]
  },
  {
   "cell_type": "markdown",
   "metadata": {},
   "source": [
    "# Data Types\n",
    "__Integers and Floats__\n",
    "\n",
    "_There are two Python data types that could be used for numeric values:_\n",
    "\n",
    "_int - for integer values_                                              \n",
    "_float - for decimal or floating point values_"
   ]
  },
  {
   "cell_type": "code",
   "execution_count": 21,
   "metadata": {
    "collapsed": true
   },
   "outputs": [],
   "source": [
    "a=100 #int data type\n",
    "b=101.5 #Float data type"
   ]
  },
  {
   "cell_type": "markdown",
   "metadata": {},
   "source": [
    "__Booleans__\n",
    "\n",
    "\n",
    "_True_                                              \n",
    "_False_"
   ]
  },
  {
   "cell_type": "code",
   "execution_count": 22,
   "metadata": {},
   "outputs": [
    {
     "data": {
      "text/plain": [
       "False"
      ]
     },
     "execution_count": 22,
     "metadata": {},
     "output_type": "execute_result"
    }
   ],
   "source": [
    "5 < 3"
   ]
  },
  {
   "cell_type": "markdown",
   "metadata": {},
   "source": [
    "__Booleans, Comparison Operators, and Logical Operators__\n",
    "\n",
    "_There are 6 comparison operators that are common to see in order to obtain a bool value_\n",
    "\n",
    "_3 logical operators you need to be familiar with:_\n",
    "\n"
   ]
  },
  {
   "cell_type": "code",
   "execution_count": 24,
   "metadata": {},
   "outputs": [
    {
     "name": "stdout",
     "output_type": "stream",
     "text": [
      "True\n",
      "False\n"
     ]
    }
   ],
   "source": [
    "print(5 < 3 or 5 == 5)\n",
    "print(5 < 3 and 5 == 5)\n"
   ]
  },
  {
   "cell_type": "markdown",
   "metadata": {},
   "source": [
    "## __Strings__\n",
    "\n",
    "\n"
   ]
  },
  {
   "cell_type": "code",
   "execution_count": 25,
   "metadata": {},
   "outputs": [
    {
     "data": {
      "text/plain": [
       "'welcome to the python 4 days training'"
      ]
     },
     "execution_count": 25,
     "metadata": {},
     "output_type": "execute_result"
    }
   ],
   "source": [
    "my_string = 'welcome to the python 4 days training'\n",
    "my_string"
   ]
  },
  {
   "cell_type": "code",
   "execution_count": 26,
   "metadata": {},
   "outputs": [
    {
     "data": {
      "text/plain": [
       "['welcome', 'to', 'the', 'python', '4', 'days', 'training']"
      ]
     },
     "execution_count": 26,
     "metadata": {},
     "output_type": "execute_result"
    }
   ],
   "source": [
    "my_string.split()"
   ]
  },
  {
   "cell_type": "code",
   "execution_count": 27,
   "metadata": {},
   "outputs": [
    {
     "data": {
      "text/plain": [
       "'WELCOME TO THE PYTHON 4 DAYS TRAINING'"
      ]
     },
     "execution_count": 27,
     "metadata": {},
     "output_type": "execute_result"
    }
   ],
   "source": [
    "my_string.upper()"
   ]
  },
  {
   "cell_type": "code",
   "execution_count": 28,
   "metadata": {},
   "outputs": [
    {
     "data": {
      "text/plain": [
       "'Welcome to the python 4 days training'"
      ]
     },
     "execution_count": 28,
     "metadata": {},
     "output_type": "execute_result"
    }
   ],
   "source": [
    "my_string.capitalize()"
   ]
  },
  {
   "cell_type": "code",
   "execution_count": 29,
   "metadata": {},
   "outputs": [
    {
     "data": {
      "text/plain": [
       "'Welcome To The Python 4 Days Training'"
      ]
     },
     "execution_count": 29,
     "metadata": {},
     "output_type": "execute_result"
    }
   ],
   "source": [
    "my_string.title()"
   ]
  },
  {
   "cell_type": "code",
   "execution_count": 30,
   "metadata": {},
   "outputs": [
    {
     "data": {
      "text/plain": [
       "['welcome', 'to', 'the', 'python 4 days training']"
      ]
     },
     "execution_count": 30,
     "metadata": {},
     "output_type": "execute_result"
    }
   ],
   "source": [
    "my_string.split(maxsplit=3)"
   ]
  },
  {
   "cell_type": "code",
   "execution_count": 31,
   "metadata": {},
   "outputs": [
    {
     "data": {
      "text/plain": [
       "' the python 4 days training'"
      ]
     },
     "execution_count": 31,
     "metadata": {},
     "output_type": "execute_result"
    }
   ],
   "source": [
    "my_string[10:]"
   ]
  },
  {
   "cell_type": "code",
   "execution_count": 34,
   "metadata": {},
   "outputs": [],
   "source": [
    "# Use backslash followed by the quotes (\\') if you need ' to be part of the string\n",
    "#my_string1 = \"this is a string's!\"\n",
    "#my_string1\n",
    "\n",
    "# Use backslash followed by the quotes (\\') if you need ' to be part of the string\n",
    "#my_string1 = 'this is a string\\'s!'\n",
    "#my_string1"
   ]
  },
  {
   "cell_type": "code",
   "execution_count": 28,
   "metadata": {},
   "outputs": [
    {
     "name": "stdout",
     "output_type": "stream",
     "text": [
      "Hi, How are you?\n",
      "Hello, how are you?\n",
      "o\n"
     ]
    }
   ],
   "source": [
    "#String\n",
    "\n",
    "#String is a immutable\n",
    "\n",
    "welcome = \"Hi, How are you?\"\n",
    "print (welcome)\n",
    "\n",
    "welcome = \"Hello, how are you?\"\n",
    "print (welcome)\n",
    "\n",
    "print (welcome[4])\n",
    "\n",
    "#welcome[4] = \"s\"  # Immutable"
   ]
  },
  {
   "cell_type": "code",
   "execution_count": 29,
   "metadata": {},
   "outputs": [
    {
     "name": "stdout",
     "output_type": "stream",
     "text": [
      "HelloThere\n"
     ]
    }
   ],
   "source": [
    "first_word = 'Hello'\n",
    "second_word = 'There'\n",
    "print(first_word + second_word)\n"
   ]
  },
  {
   "cell_type": "markdown",
   "metadata": {},
   "source": [
    "### **Finding the length of string**"
   ]
  },
  {
   "cell_type": "code",
   "execution_count": 30,
   "metadata": {},
   "outputs": [
    {
     "data": {
      "text/plain": [
       "19"
      ]
     },
     "execution_count": 30,
     "metadata": {},
     "output_type": "execute_result"
    }
   ],
   "source": [
    "#The len() function\n",
    "\n",
    "len(welcome)"
   ]
  },
  {
   "cell_type": "code",
   "execution_count": 32,
   "metadata": {},
   "outputs": [
    {
     "data": {
      "text/plain": [
       "'HELLO, HOW ARE YOU?'"
      ]
     },
     "execution_count": 32,
     "metadata": {},
     "output_type": "execute_result"
    }
   ],
   "source": [
    "# upper() method\n",
    "welcome.upper()"
   ]
  },
  {
   "cell_type": "code",
   "execution_count": 33,
   "metadata": {},
   "outputs": [
    {
     "data": {
      "text/plain": [
       "'Hello, how are you?'"
      ]
     },
     "execution_count": 33,
     "metadata": {},
     "output_type": "execute_result"
    }
   ],
   "source": [
    "# capitalize() method\n",
    "welcome.capitalize()"
   ]
  },
  {
   "cell_type": "code",
   "execution_count": 34,
   "metadata": {},
   "outputs": [
    {
     "data": {
      "text/plain": [
       "'Hello, How Are You?'"
      ]
     },
     "execution_count": 34,
     "metadata": {},
     "output_type": "execute_result"
    }
   ],
   "source": [
    "# title() method\n",
    "welcome.title()"
   ]
  },
  {
   "cell_type": "code",
   "execution_count": 35,
   "metadata": {},
   "outputs": [
    {
     "data": {
      "text/plain": [
       "0"
      ]
     },
     "execution_count": 35,
     "metadata": {},
     "output_type": "execute_result"
    }
   ],
   "source": [
    "# Count the letter A in welcome\n",
    "welcome.count('A')"
   ]
  },
  {
   "cell_type": "code",
   "execution_count": 42,
   "metadata": {},
   "outputs": [
    {
     "data": {
      "text/plain": [
       "'welcome to the python 4 days training'"
      ]
     },
     "execution_count": 42,
     "metadata": {},
     "output_type": "execute_result"
    }
   ],
   "source": [
    "my_string"
   ]
  },
  {
   "cell_type": "markdown",
   "metadata": {},
   "source": [
    "### **Replacing the char in the string**"
   ]
  },
  {
   "cell_type": "code",
   "execution_count": 45,
   "metadata": {},
   "outputs": [
    {
     "data": {
      "text/plain": [
       "'WELLO, WOW ARE YOU?'"
      ]
     },
     "execution_count": 45,
     "metadata": {},
     "output_type": "execute_result"
    }
   ],
   "source": [
    "# replace() method - replaces the actual letter with the new letter\n",
    "welcome.replace('H','W')"
   ]
  },
  {
   "cell_type": "markdown",
   "metadata": {},
   "source": [
    "### __String Methods__\n",
    "\n",
    "_Methods actually are functions that are called using dot notation. For example, lower() is a string method that can be used like this, on a string called \"sample string\": sample_string.lower()_\n"
   ]
  },
  {
   "cell_type": "code",
   "execution_count": 36,
   "metadata": {},
   "outputs": [
    {
     "name": "stdout",
     "output_type": "stream",
     "text": [
      "True\n",
      "1\n"
     ]
    }
   ],
   "source": [
    "print(my_string.islower())\n",
    "\n",
    "print(my_string.count('a'))\n",
    "\n"
   ]
  },
  {
   "cell_type": "code",
   "execution_count": null,
   "metadata": {},
   "outputs": [],
   "source": []
  },
  {
   "cell_type": "code",
   "execution_count": null,
   "metadata": {},
   "outputs": [],
   "source": [
    "#One important string method: format()\n",
    "\n",
    "# Example 1\n",
    "print(\"Python has a huge demand in the year {}\".format('2020'))"
   ]
  },
  {
   "cell_type": "code",
   "execution_count": 141,
   "metadata": {},
   "outputs": [
    {
     "name": "stdout",
     "output_type": "stream",
     "text": [
      "The average salary for a Python professional in Australia is 2020 in the year 100K$\n"
     ]
    }
   ],
   "source": [
    "# Example 2\n",
    "year = 2020\n",
    "action = '100K$'\n",
    "\n",
    "print(\"The average salary for a Python professional in Australia is {1} in the year {0}\".format(action,year))\n",
    "#print(\"The average salary for a Python professional in Australia is {0} in the year {1}\".format(action,year))"
   ]
  },
  {
   "cell_type": "code",
   "execution_count": 49,
   "metadata": {},
   "outputs": [
    {
     "name": "stdout",
     "output_type": "stream",
     "text": [
      "Python has a huge demand in the year 2020\n",
      "The average salary for a Python professional in Australia is 100K$ in the year 2020\n"
     ]
    }
   ],
   "source": [
    "#One important string method: format()\n",
    "\n",
    "# Example 1\n",
    "print(\"Python has a huge demand in the year {}\".format('2020'))\n",
    "\n",
    "# Example 2\n",
    "year = 2020\n",
    "action = '100K$'\n",
    "\n",
    "print(\"The average salary for a Python professional in Australia is {} in the year {}\".format(action,year))\n",
    "#print(\"The average salary for a Python professional in Australia is {0} in the year {1}\".format(action,year))\n",
    "\n"
   ]
  },
  {
   "cell_type": "code",
   "execution_count": 50,
   "metadata": {},
   "outputs": [
    {
     "data": {
      "text/plain": [
       "['Data', 'Scientists', 'are', 'in', 'high', 'demand']"
      ]
     },
     "execution_count": 50,
     "metadata": {},
     "output_type": "execute_result"
    }
   ],
   "source": [
    "#Another important string method: split()\n",
    "#A basic split method:\n",
    "new_str = \"Data Scientists are in high demand\"\n",
    "new_str.split()"
   ]
  },
  {
   "cell_type": "code",
   "execution_count": 51,
   "metadata": {},
   "outputs": [
    {
     "data": {
      "text/plain": [
       "['Data', 'Scientists', 'are', 'in high demand']"
      ]
     },
     "execution_count": 51,
     "metadata": {},
     "output_type": "execute_result"
    }
   ],
   "source": [
    "#Here the separator is space, and the maxsplit argument is set to 3.\n",
    "new_str.split(' ', 3)"
   ]
  },
  {
   "cell_type": "code",
   "execution_count": 98,
   "metadata": {},
   "outputs": [
    {
     "name": "stdout",
     "output_type": "stream",
     "text": [
      "There are 1000 people working in 10 companies\n"
     ]
    }
   ],
   "source": [
    "print('There are {} people working in {} companies'.format(1000,10))"
   ]
  },
  {
   "cell_type": "code",
   "execution_count": 101,
   "metadata": {},
   "outputs": [
    {
     "name": "stdout",
     "output_type": "stream",
     "text": [
      "There are 10 people working in 1000 companies\n"
     ]
    }
   ],
   "source": [
    "print('There are {1} people working in {0} companies'.format(1000,10))"
   ]
  },
  {
   "cell_type": "markdown",
   "metadata": {},
   "source": [
    "### __Type And Type Conversion__\n",
    "\n",
    "\n"
   ]
  },
  {
   "cell_type": "code",
   "execution_count": 52,
   "metadata": {},
   "outputs": [
    {
     "data": {
      "text/plain": [
       "str"
      ]
     },
     "execution_count": 52,
     "metadata": {},
     "output_type": "execute_result"
    }
   ],
   "source": [
    "type(my_string)"
   ]
  },
  {
   "cell_type": "code",
   "execution_count": 33,
   "metadata": {},
   "outputs": [
    {
     "data": {
      "text/plain": [
       "float"
      ]
     },
     "execution_count": 33,
     "metadata": {},
     "output_type": "execute_result"
    }
   ],
   "source": [
    "a=101.5\n",
    "type(a)"
   ]
  },
  {
   "cell_type": "code",
   "execution_count": 35,
   "metadata": {},
   "outputs": [
    {
     "name": "stdout",
     "output_type": "stream",
     "text": [
      "101\n",
      "<class 'int'>\n"
     ]
    }
   ],
   "source": [
    "b=int(a)\n",
    "print(b)\n",
    "print(type(b))"
   ]
  },
  {
   "cell_type": "code",
   "execution_count": 48,
   "metadata": {},
   "outputs": [
    {
     "name": "stdout",
     "output_type": "stream",
     "text": [
      "('a is of type', <type 'int'>)\n",
      "('a is of type', <type 'float'>)\n",
      "('a is of type', <type 'str'>)\n",
      "('a is of type', <type 'complex'>)\n"
     ]
    },
    {
     "data": {
      "text/plain": [
       "True"
      ]
     },
     "execution_count": 48,
     "metadata": {},
     "output_type": "execute_result"
    }
   ],
   "source": [
    "a = 5\n",
    "print(\"a is of type\", type(a))\n",
    "\n",
    "a = 4.35\n",
    "print(\"a is of type\", type(a))\n",
    "\n",
    "a = \"Hello\"\n",
    "print(\"a is of type\", type(a))\n",
    "\n",
    "a = 1+2j\n",
    "print(\"a is of type\", type(a))\n",
    "\n",
    "isinstance(\"dcfsd\",str)\n"
   ]
  },
  {
   "cell_type": "markdown",
   "metadata": {},
   "source": [
    "### __Data structures__\n",
    "\n",
    "_Lists_                                                                                                                         \n",
    "_Tuples_                                                                                                                         \n",
    "_Sets_                                                                                                                         \n",
    "_Dictionaries_\n"
   ]
  },
  {
   "cell_type": "markdown",
   "metadata": {},
   "source": [
    "### __Lists__\n",
    "\n",
    "_lists are one of the most common and basic data structures in Python_                                                           \n",
    "_list is created with square brackets_                                                            \n",
    "_Lists can contain any mix and match of the data types you have seen so far_                                                     _Lists are Mutable_      \n",
    "\n"
   ]
  },
  {
   "cell_type": "code",
   "execution_count": 53,
   "metadata": {},
   "outputs": [
    {
     "name": "stdout",
     "output_type": "stream",
     "text": [
      "['jan', 'feb', 'mar', 'apr', 'may']\n"
     ]
    }
   ],
   "source": [
    "months=['jan','feb','mar','apr','may']\n",
    "print(months)"
   ]
  },
  {
   "cell_type": "code",
   "execution_count": 54,
   "metadata": {},
   "outputs": [
    {
     "name": "stdout",
     "output_type": "stream",
     "text": [
      "['january', 'feb', 'mar', 'apr', 'may']\n"
     ]
    }
   ],
   "source": [
    "months[0] = 'january'\n",
    "print(months)"
   ]
  },
  {
   "cell_type": "code",
   "execution_count": null,
   "metadata": {},
   "outputs": [],
   "source": []
  },
  {
   "cell_type": "code",
   "execution_count": 56,
   "metadata": {},
   "outputs": [
    {
     "data": {
      "text/plain": [
       "False"
      ]
     },
     "execution_count": 56,
     "metadata": {},
     "output_type": "execute_result"
    }
   ],
   "source": [
    "'Jan' in months"
   ]
  },
  {
   "cell_type": "code",
   "execution_count": 58,
   "metadata": {},
   "outputs": [
    {
     "data": {
      "text/plain": [
       "'I work in Australia'"
      ]
     },
     "execution_count": 58,
     "metadata": {},
     "output_type": "execute_result"
    }
   ],
   "source": [
    "# Example of non mutability in strings\n",
    "company='I work in Australia'\n",
    "\n",
    "company"
   ]
  },
  {
   "cell_type": "code",
   "execution_count": 46,
   "metadata": {},
   "outputs": [
    {
     "data": {
      "text/plain": [
       "'I work in Australia'"
      ]
     },
     "execution_count": 46,
     "metadata": {},
     "output_type": "execute_result"
    }
   ],
   "source": [
    "# Example of non mutability in strings\n",
    "company='I work in Australia'\n",
    "\n",
    "company"
   ]
  },
  {
   "cell_type": "code",
   "execution_count": 61,
   "metadata": {},
   "outputs": [
    {
     "ename": "TypeError",
     "evalue": "'str' object does not support item assignment",
     "output_type": "error",
     "traceback": [
      "\u001b[1;31m---------------------------------------------------------------------------\u001b[0m",
      "\u001b[1;31mTypeError\u001b[0m                                 Traceback (most recent call last)",
      "\u001b[1;32m<ipython-input-61-4c3c9221289f>\u001b[0m in \u001b[0;36m<module>\u001b[1;34m\u001b[0m\n\u001b[1;32m----> 1\u001b[1;33m \u001b[0mcompany\u001b[0m\u001b[1;33m[\u001b[0m\u001b[1;36m0\u001b[0m\u001b[1;33m]\u001b[0m \u001b[1;33m=\u001b[0m \u001b[1;34m'U'\u001b[0m\u001b[1;33m\u001b[0m\u001b[1;33m\u001b[0m\u001b[0m\n\u001b[0m",
      "\u001b[1;31mTypeError\u001b[0m: 'str' object does not support item assignment"
     ]
    }
   ],
   "source": [
    "company[0] = 'U'"
   ]
  },
  {
   "cell_type": "code",
   "execution_count": 62,
   "metadata": {},
   "outputs": [
    {
     "data": {
      "text/plain": [
       "5"
      ]
     },
     "execution_count": 62,
     "metadata": {},
     "output_type": "execute_result"
    }
   ],
   "source": [
    "len(months)"
   ]
  },
  {
   "cell_type": "code",
   "execution_count": 46,
   "metadata": {},
   "outputs": [
    {
     "data": {
      "text/plain": [
       "[1, 3.4, 'a string', True]"
      ]
     },
     "execution_count": 46,
     "metadata": {},
     "output_type": "execute_result"
    }
   ],
   "source": [
    "list_of_random_things = [1, 3.4, 'a string', True]\n",
    "list_of_random_things"
   ]
  },
  {
   "cell_type": "code",
   "execution_count": 47,
   "metadata": {},
   "outputs": [
    {
     "data": {
      "text/plain": [
       "list"
      ]
     },
     "execution_count": 47,
     "metadata": {},
     "output_type": "execute_result"
    }
   ],
   "source": [
    "type(list_of_random_things)"
   ]
  },
  {
   "cell_type": "code",
   "execution_count": 49,
   "metadata": {},
   "outputs": [
    {
     "data": {
      "text/plain": [
       "[3.4]"
      ]
     },
     "execution_count": 49,
     "metadata": {},
     "output_type": "execute_result"
    }
   ],
   "source": [
    "#Slicing in List\n",
    "#When using slicing, it is important to remember that the lower index is inclusive and the upper index is exclusive\n",
    "list_of_random_things[1:2]"
   ]
  },
  {
   "cell_type": "code",
   "execution_count": 143,
   "metadata": {},
   "outputs": [
    {
     "name": "stdout",
     "output_type": "stream",
     "text": [
      "[1, 2, 3, 4, 5]\n",
      "['one', 2, 3, 4, 5]\n"
     ]
    }
   ],
   "source": [
    "#Mutability\n",
    "\n",
    "my_lst = [1, 2, 3, 4, 5]\n",
    "print(my_lst)\n",
    "\n",
    "my_lst[0] = 'one'\n",
    "print(my_lst)\n",
    "\n"
   ]
  },
  {
   "cell_type": "code",
   "execution_count": 50,
   "metadata": {},
   "outputs": [],
   "source": [
    "# Try creating a Copy of list and modifying new copy  "
   ]
  },
  {
   "cell_type": "markdown",
   "metadata": {},
   "source": [
    "### List Methods"
   ]
  },
  {
   "cell_type": "code",
   "execution_count": null,
   "metadata": {},
   "outputs": [],
   "source": []
  },
  {
   "cell_type": "code",
   "execution_count": 80,
   "metadata": {},
   "outputs": [],
   "source": [
    "# List2.extend(List1) \n",
    "# reverse()\n",
    "# pop()\n",
    "# remove\n",
    "# count\n",
    "# applying min,max,sum functions"
   ]
  },
  {
   "cell_type": "code",
   "execution_count": 81,
   "metadata": {},
   "outputs": [
    {
     "name": "stdout",
     "output_type": "stream",
     "text": [
      "Axis-HDFC-RBS-ICICI\n"
     ]
    }
   ],
   "source": [
    "#join is a string method which works on list to join a string\n",
    "\n",
    "new_str = \"-\".join([\"Axis\", \"HDFC\", \"RBS\", \"ICICI\"])\n",
    "print(new_str)"
   ]
  },
  {
   "cell_type": "code",
   "execution_count": 58,
   "metadata": {},
   "outputs": [
    {
     "name": "stdout",
     "output_type": "stream",
     "text": [
      "['Woolworths', 'Westpac', 'CBA', 'Coales', 'cisco']\n"
     ]
    }
   ],
   "source": [
    "#append method\n",
    "\n",
    "companies = ['Woolworths', 'Westpac', 'CBA', 'Coales']\n",
    "companies.append('cisco')\n",
    "print(companies)"
   ]
  },
  {
   "cell_type": "code",
   "execution_count": 86,
   "metadata": {},
   "outputs": [
    {
     "name": "stdout",
     "output_type": "stream",
     "text": [
      "['CTS', 'TCS', 'Infosys', 'Paypal', 'RBS']\n"
     ]
    }
   ],
   "source": [
    "#append method\n",
    "\n",
    "companies = ['CTS', 'TCS', 'Infosys', 'Paypal']\n",
    "companies.append('RBS')\n",
    "print(companies)"
   ]
  },
  {
   "cell_type": "code",
   "execution_count": 91,
   "metadata": {},
   "outputs": [],
   "source": [
    "# Try applying reverse and see the output"
   ]
  },
  {
   "cell_type": "code",
   "execution_count": 89,
   "metadata": {},
   "outputs": [
    {
     "data": {
      "text/plain": [
       "['India', 'Pakistan', 'US', 'China', 'Canada']"
      ]
     },
     "execution_count": 89,
     "metadata": {},
     "output_type": "execute_result"
    }
   ],
   "source": [
    "Countries = ['India', 'Pakistan', \"US\",'China','Canada']\n",
    "Countries"
   ]
  },
  {
   "cell_type": "code",
   "execution_count": 93,
   "metadata": {},
   "outputs": [
    {
     "data": {
      "text/plain": [
       "2"
      ]
     },
     "execution_count": 93,
     "metadata": {},
     "output_type": "execute_result"
    }
   ],
   "source": [
    "Countries.index('US')"
   ]
  },
  {
   "cell_type": "code",
   "execution_count": 83,
   "metadata": {
    "collapsed": true
   },
   "outputs": [],
   "source": [
    "list=['Abhijit','rahul','sharique',['sameer','sam']]"
   ]
  },
  {
   "cell_type": "code",
   "execution_count": 87,
   "metadata": {},
   "outputs": [
    {
     "data": {
      "text/plain": [
       "'sam'"
      ]
     },
     "execution_count": 87,
     "metadata": {},
     "output_type": "execute_result"
    }
   ],
   "source": [
    "list[3][1]"
   ]
  },
  {
   "cell_type": "code",
   "execution_count": 86,
   "metadata": {},
   "outputs": [
    {
     "data": {
      "text/plain": [
       "str"
      ]
     },
     "execution_count": 86,
     "metadata": {},
     "output_type": "execute_result"
    }
   ],
   "source": [
    "type(list[1])"
   ]
  },
  {
   "cell_type": "markdown",
   "metadata": {},
   "source": [
    "### __Functions for Lists__\n",
    "\n",
    "\n"
   ]
  },
  {
   "cell_type": "code",
   "execution_count": 56,
   "metadata": {
    "collapsed": true
   },
   "outputs": [],
   "source": [
    "#Try these functions\n",
    "#len()\n",
    "#max()\n",
    "#min()\n",
    "#sorted()"
   ]
  },
  {
   "cell_type": "markdown",
   "metadata": {},
   "source": [
    "### __Membership Operators__\n",
    "\n",
    "_in and not in_\n",
    "\n"
   ]
  },
  {
   "cell_type": "code",
   "execution_count": 193,
   "metadata": {},
   "outputs": [
    {
     "data": {
      "text/plain": [
       "['India', 'Pakistan', 'US', 'China', 'Canada']"
      ]
     },
     "execution_count": 193,
     "metadata": {},
     "output_type": "execute_result"
    }
   ],
   "source": [
    "Countries = ['India', 'Pakistan', \"US\",'China','Canada']\n",
    "Countries"
   ]
  },
  {
   "cell_type": "code",
   "execution_count": 195,
   "metadata": {},
   "outputs": [
    {
     "data": {
      "text/plain": [
       "1"
      ]
     },
     "execution_count": 195,
     "metadata": {},
     "output_type": "execute_result"
    }
   ],
   "source": [
    "Countries.count('India')"
   ]
  },
  {
   "cell_type": "code",
   "execution_count": 90,
   "metadata": {},
   "outputs": [
    {
     "data": {
      "text/plain": [
       "True"
      ]
     },
     "execution_count": 90,
     "metadata": {},
     "output_type": "execute_result"
    }
   ],
   "source": [
    "'India' in Countries"
   ]
  },
  {
   "cell_type": "code",
   "execution_count": 95,
   "metadata": {
    "collapsed": true
   },
   "outputs": [],
   "source": [
    "Countries[0] = 'Ind'"
   ]
  },
  {
   "cell_type": "code",
   "execution_count": 100,
   "metadata": {},
   "outputs": [
    {
     "data": {
      "text/plain": [
       "['Ind', 'Pakistan', 'US', 'China', 'Canada']"
      ]
     },
     "execution_count": 100,
     "metadata": {},
     "output_type": "execute_result"
    }
   ],
   "source": [
    "Countries"
   ]
  },
  {
   "cell_type": "code",
   "execution_count": 91,
   "metadata": {},
   "outputs": [
    {
     "data": {
      "text/plain": [
       "False"
      ]
     },
     "execution_count": 91,
     "metadata": {},
     "output_type": "execute_result"
    }
   ],
   "source": [
    "'India' not in Countries"
   ]
  },
  {
   "cell_type": "code",
   "execution_count": null,
   "metadata": {},
   "outputs": [],
   "source": []
  },
  {
   "cell_type": "markdown",
   "metadata": {},
   "source": [
    "## __Tuples__\n",
    "\n",
    "_Tuple is a data type for immutable ordered sequences of elements_"
   ]
  },
  {
   "cell_type": "code",
   "execution_count": 67,
   "metadata": {},
   "outputs": [
    {
     "name": "stdout",
     "output_type": "stream",
     "text": [
      "Latitude: 13.4125\n",
      "Longitude: 103.866667\n"
     ]
    }
   ],
   "source": [
    "location = (13.4125, 103.866667)\n",
    "print(\"Latitude:\", location[0])\n",
    "print(\"Longitude:\", location[1])"
   ]
  },
  {
   "cell_type": "code",
   "execution_count": 68,
   "metadata": {},
   "outputs": [
    {
     "data": {
      "text/plain": [
       "103.866667"
      ]
     },
     "execution_count": 68,
     "metadata": {},
     "output_type": "execute_result"
    }
   ],
   "source": [
    "location[1]"
   ]
  },
  {
   "cell_type": "code",
   "execution_count": 69,
   "metadata": {},
   "outputs": [
    {
     "ename": "TypeError",
     "evalue": "'tuple' object does not support item assignment",
     "output_type": "error",
     "traceback": [
      "\u001b[1;31m---------------------------------------------------------------------------\u001b[0m",
      "\u001b[1;31mTypeError\u001b[0m                                 Traceback (most recent call last)",
      "\u001b[1;32m<ipython-input-69-8ca9aff650aa>\u001b[0m in \u001b[0;36m<module>\u001b[1;34m\u001b[0m\n\u001b[1;32m----> 1\u001b[1;33m \u001b[0mlocation\u001b[0m\u001b[1;33m[\u001b[0m\u001b[1;36m0\u001b[0m\u001b[1;33m]\u001b[0m \u001b[1;33m=\u001b[0m \u001b[1;36m100\u001b[0m\u001b[1;33m\u001b[0m\u001b[1;33m\u001b[0m\u001b[0m\n\u001b[0m",
      "\u001b[1;31mTypeError\u001b[0m: 'tuple' object does not support item assignment"
     ]
    }
   ],
   "source": [
    "location[0] = 100"
   ]
  },
  {
   "cell_type": "code",
   "execution_count": null,
   "metadata": {
    "collapsed": true
   },
   "outputs": [],
   "source": []
  },
  {
   "cell_type": "code",
   "execution_count": 3,
   "metadata": {
    "collapsed": true
   },
   "outputs": [],
   "source": [
    "# 3 variables are assigned from the content of the tuple dimensions. This is called tuple unpacking\n",
    "dimensions = 52, 40, 100\n",
    "length, width, height = dimensions\n",
    "\n",
    "# We can use tuple unpacking to assign the information from a tuple into multiple variables \n",
    "# without having to access them one by one and make multiple assignment statements"
   ]
  },
  {
   "cell_type": "markdown",
   "metadata": {},
   "source": [
    "## __Sets__\n",
    "\n",
    "_A set is a data type for mutable unordered collections of unique elements_                                                     \n",
    "_One application of a set is to quickly remove duplicates from a list_"
   ]
  },
  {
   "cell_type": "code",
   "execution_count": 70,
   "metadata": {},
   "outputs": [
    {
     "name": "stdout",
     "output_type": "stream",
     "text": [
      "{1, 2, 3, 6}\n"
     ]
    }
   ],
   "source": [
    "numbers = [1, 2, 6, 3, 1, 1, 6]\n",
    "unique_nums = set(numbers)\n",
    "print(unique_nums)"
   ]
  },
  {
   "cell_type": "code",
   "execution_count": 72,
   "metadata": {},
   "outputs": [
    {
     "data": {
      "text/plain": [
       "[1, 2, 6, 3, 1, 1, 6]"
      ]
     },
     "execution_count": 72,
     "metadata": {},
     "output_type": "execute_result"
    }
   ],
   "source": [
    "numbers"
   ]
  },
  {
   "cell_type": "raw",
   "metadata": {},
   "source": [
    "Bank_loans = {'Axis', 'HDFC', 'ICICI'}  # define a set\n",
    "\n",
    "print(\"RBS\" in Bank_loans)  # check for element\n",
    "\n",
    "Bank_loans.add(\"SBI\")  # add an element\n",
    "print(Bank_loans)\n",
    "\n",
    "print(Bank_loans.pop())  # remove a random element\n",
    "print(Bank_loans)"
   ]
  },
  {
   "cell_type": "code",
   "execution_count": 115,
   "metadata": {},
   "outputs": [],
   "source": [
    "Credit_cards = {'George','Rohan','Antony','Kim','Alex','Frank','Tommy','Morgan'}\n",
    "debit_cards = {'Antony','Kane','Alex','Smith','Steve','Jim'}"
   ]
  },
  {
   "cell_type": "code",
   "execution_count": 111,
   "metadata": {},
   "outputs": [
    {
     "data": {
      "text/plain": [
       "{'Alex', 'Antony'}"
      ]
     },
     "execution_count": 111,
     "metadata": {},
     "output_type": "execute_result"
    }
   ],
   "source": [
    "Credit_cards.intersection(debit_cards)"
   ]
  },
  {
   "cell_type": "code",
   "execution_count": 112,
   "metadata": {},
   "outputs": [
    {
     "data": {
      "text/plain": [
       "{'Alex', 'Antony', 'Frank', 'George', 'Kim', 'Morgan', 'Rohan', 'Tommy'}"
      ]
     },
     "execution_count": 112,
     "metadata": {},
     "output_type": "execute_result"
    }
   ],
   "source": [
    "Credit_cards"
   ]
  },
  {
   "cell_type": "code",
   "execution_count": 113,
   "metadata": {},
   "outputs": [],
   "source": [
    "Credit_cards.intersection_update(debit_cards)"
   ]
  },
  {
   "cell_type": "code",
   "execution_count": 114,
   "metadata": {},
   "outputs": [
    {
     "data": {
      "text/plain": [
       "{'Alex', 'Antony'}"
      ]
     },
     "execution_count": 114,
     "metadata": {},
     "output_type": "execute_result"
    }
   ],
   "source": [
    "Credit_cards"
   ]
  },
  {
   "cell_type": "code",
   "execution_count": 116,
   "metadata": {},
   "outputs": [],
   "source": [
    "#Credit_cards.difference_update(debit_cards)"
   ]
  },
  {
   "cell_type": "code",
   "execution_count": 117,
   "metadata": {},
   "outputs": [
    {
     "data": {
      "text/plain": [
       "{'Frank', 'George', 'Kim', 'Morgan', 'Rohan', 'Tommy'}"
      ]
     },
     "execution_count": 117,
     "metadata": {},
     "output_type": "execute_result"
    }
   ],
   "source": [
    "Credit_cards.difference(debit_cards)"
   ]
  },
  {
   "cell_type": "code",
   "execution_count": 118,
   "metadata": {},
   "outputs": [
    {
     "data": {
      "text/plain": [
       "{'Jim', 'Kane', 'Smith', 'Steve'}"
      ]
     },
     "execution_count": 118,
     "metadata": {},
     "output_type": "execute_result"
    }
   ],
   "source": [
    "debit_cards.difference(Credit_cards)"
   ]
  },
  {
   "cell_type": "code",
   "execution_count": 119,
   "metadata": {},
   "outputs": [
    {
     "data": {
      "text/plain": [
       "{'Alex',\n",
       " 'Antony',\n",
       " 'Frank',\n",
       " 'George',\n",
       " 'Jim',\n",
       " 'Kane',\n",
       " 'Kim',\n",
       " 'Morgan',\n",
       " 'Rohan',\n",
       " 'Smith',\n",
       " 'Steve',\n",
       " 'Tommy'}"
      ]
     },
     "execution_count": 119,
     "metadata": {},
     "output_type": "execute_result"
    }
   ],
   "source": [
    "Credit_cards.union(debit_cards)"
   ]
  },
  {
   "cell_type": "markdown",
   "metadata": {},
   "source": [
    "_Methods like union, intersection,difference are easy to perform in sets_                                             "
   ]
  },
  {
   "cell_type": "markdown",
   "metadata": {},
   "source": [
    "## Dictionaries\n",
    "\n",
    "_A dictionary is a mutable data type that stores mappings of unique keys to values_"
   ]
  },
  {
   "cell_type": "code",
   "execution_count": 128,
   "metadata": {},
   "outputs": [
    {
     "name": "stdout",
     "output_type": "stream",
     "text": [
      "2\n"
     ]
    }
   ],
   "source": [
    "candidates = {\"Steve\": 1, \"Rohan\": 2, \"Jim\": 3}\n",
    "print(candidates[\"Rohan\"])  # print the value mapped to \"Rohan\"\n",
    "candidates[\"Kane\"] = 4  # insert \"Kane\" with a value of 4 into the dictionary"
   ]
  },
  {
   "cell_type": "code",
   "execution_count": 136,
   "metadata": {},
   "outputs": [
    {
     "name": "stdout",
     "output_type": "stream",
     "text": [
      "True\n",
      "3\n",
      "None\n"
     ]
    }
   ],
   "source": [
    "# Checking the values in Dict \n",
    "print(\"Jim\" in candidates) \n",
    "print(candidates.get(\"Jim\")) #get gives you the position of the key\n",
    "print(candidates.get(\"Antony\")) #get gives you the position of the key"
   ]
  },
  {
   "cell_type": "markdown",
   "metadata": {},
   "source": [
    "## Identity Operators\n",
    "### Keyword\tOperator\n",
    "\n",
    "_is\tevaluates if both sides have the same identity_                                                                             \n",
    "_is not\tevaluates if both sides have different identities_"
   ]
  },
  {
   "cell_type": "code",
   "execution_count": 12,
   "metadata": {},
   "outputs": [
    {
     "name": "stdout",
     "output_type": "stream",
     "text": [
      "True\n",
      "False\n"
     ]
    }
   ],
   "source": [
    "n = elements.get(\"dilithium\")\n",
    "print(n is None)\n",
    "print(n is not None)"
   ]
  },
  {
   "cell_type": "markdown",
   "metadata": {},
   "source": [
    "## Compound Data Structures\n",
    "\n",
    "*We can include containers in other containers to create compound data structures*"
   ]
  },
  {
   "cell_type": "code",
   "execution_count": 13,
   "metadata": {
    "collapsed": true
   },
   "outputs": [],
   "source": [
    "elements = {\"hydrogen\": {\"number\": 1,\n",
    "                         \"weight\": 1.00794,\n",
    "                         \"symbol\": \"H\"},\n",
    "              \"helium\": {\"number\": 2,\n",
    "                         \"weight\": 4.002602,\n",
    "                         \"symbol\": \"He\"}}"
   ]
  },
  {
   "cell_type": "code",
   "execution_count": 14,
   "metadata": {
    "collapsed": true
   },
   "outputs": [],
   "source": [
    "helium = elements[\"helium\"]  # get the helium dictionary\n",
    "hydrogen_weight = elements[\"hydrogen\"][\"weight\"]  # get hydrogen's weight"
   ]
  },
  {
   "cell_type": "code",
   "execution_count": 15,
   "metadata": {},
   "outputs": [
    {
     "name": "stdout",
     "output_type": "stream",
     "text": [
      "elements =  {'hydrogen': {'number': 1, 'weight': 1.00794, 'symbol': 'H'}, 'helium': {'number': 2, 'weight': 4.002602, 'symbol': 'He'}, 'oxygen': {'number': 8, 'weight': 15.999, 'symbol': 'O'}}\n"
     ]
    }
   ],
   "source": [
    "oxygen = {\"number\":8,\"weight\":15.999,\"symbol\":\"O\"}  # create a new oxygen dictionary \n",
    "elements[\"oxygen\"] = oxygen  # assign 'oxygen' as a key to the elements dictionary\n",
    "print('elements = ', elements)"
   ]
  },
  {
   "cell_type": "markdown",
   "metadata": {},
   "source": [
    "## Syntax Errors and Exceptions\n",
    "\n",
    "\n",
    "_There are two types of errors to look out for_\n",
    "\n",
    "_Exceptions - Exception is a problem that occurs when the code is running_                                                      \n",
    "_Syntax - Syntax Error is a problem detected when Python checks the code before it runs it_"
   ]
  },
  {
   "cell_type": "code",
   "execution_count": 36,
   "metadata": {},
   "outputs": [
    {
     "ename": "ZeroDivisionError",
     "evalue": "division by zero",
     "output_type": "error",
     "traceback": [
      "\u001b[1;31m---------------------------------------------------------------------------\u001b[0m",
      "\u001b[1;31mZeroDivisionError\u001b[0m                         Traceback (most recent call last)",
      "\u001b[1;32m<ipython-input-36-2a0017ebe009>\u001b[0m in \u001b[0;36m<module>\u001b[1;34m()\u001b[0m\n\u001b[0;32m      1\u001b[0m \u001b[1;31m# Exceptions\u001b[0m\u001b[1;33m\u001b[0m\u001b[1;33m\u001b[0m\u001b[0m\n\u001b[1;32m----> 2\u001b[1;33m \u001b[0mprint\u001b[0m\u001b[1;33m(\u001b[0m\u001b[1;36m5\u001b[0m\u001b[1;33m/\u001b[0m\u001b[1;36m0\u001b[0m\u001b[1;33m)\u001b[0m\u001b[1;33m\u001b[0m\u001b[0m\n\u001b[0m",
      "\u001b[1;31mZeroDivisionError\u001b[0m: division by zero"
     ]
    }
   ],
   "source": [
    "# Exceptions\n",
    "print(5/0)"
   ]
  },
  {
   "cell_type": "markdown",
   "metadata": {},
   "source": [
    "try:\n",
    "    5/0\n",
    "except ZeroDivisionError as err:\n",
    "    print('Handling run-time error:', err)\n",
    "\n"
   ]
  },
  {
   "cell_type": "markdown",
   "metadata": {
    "collapsed": true
   },
   "source": [
    "def test():\n",
    "    a= int(input('Please enter first number: '))\n",
    "    b= int(input('Please enter second number: '))\n",
    "    return a/b"
   ]
  }
 ],
 "metadata": {
  "anaconda-cloud": {},
  "kernelspec": {
   "display_name": "Python 3",
   "language": "python",
   "name": "python3"
  },
  "language_info": {
   "codemirror_mode": {
    "name": "ipython",
    "version": 3
   },
   "file_extension": ".py",
   "mimetype": "text/x-python",
   "name": "python",
   "nbconvert_exporter": "python",
   "pygments_lexer": "ipython3",
   "version": "3.7.1"
  }
 },
 "nbformat": 4,
 "nbformat_minor": 1
}
