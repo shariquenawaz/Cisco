{
 "cells": [
  {
   "cell_type": "code",
   "execution_count": 1,
   "metadata": {},
   "outputs": [],
   "source": [
    "import socket"
   ]
  },
  {
   "cell_type": "code",
   "execution_count": 2,
   "metadata": {},
   "outputs": [],
   "source": [
    "s = socket.socket(socket.AF_INET, socket.SOCK_STREAM)"
   ]
  },
  {
   "cell_type": "code",
   "execution_count": 5,
   "metadata": {},
   "outputs": [
    {
     "name": "stdout",
     "output_type": "stream",
     "text": [
      "172.217.25.164\n"
     ]
    }
   ],
   "source": [
    "import socket \n",
    "\n",
    "ip = socket.gethostbyname('www.google.com')\n",
    "print (ip)"
   ]
  },
  {
   "cell_type": "code",
   "execution_count": null,
   "metadata": {},
   "outputs": [],
   "source": [
    "import socket # for socket \n",
    "import sys  \n",
    "  \n",
    "try: \n",
    "    s = socket.socket(socket.AF_INET, socket.SOCK_STREAM) \n",
    "    print (\"Socket successfully created\")\n",
    "except socket.error as err: \n",
    "    print (\"socket creation failed with error %s\" %(err)) \n",
    "  \n",
    "# default port for socket \n",
    "port = 80\n",
    "  \n",
    "try: \n",
    "    host_ip = socket.gethostbyname('www.google.com') \n",
    "except socket.gaierror: \n",
    "  \n",
    "    # this means could not resolve the host \n",
    "    print (\"there was an error resolving the host\")\n",
    "    sys.exit() \n",
    "  \n",
    "# connecting to the server \n",
    "s.connect((host_ip, port)) \n",
    "  \n",
    "print (\"the socket has successfully connected to google on port == %s\" %(host_ip))\n"
   ]
  },
  {
   "cell_type": "markdown",
   "metadata": {},
   "source": [
    "# Server-client program\n",
    "\n",
    "## Server"
   ]
  },
  {
   "cell_type": "code",
   "execution_count": null,
   "metadata": {},
   "outputs": [],
   "source": [
    "import socket                \n",
    "  \n",
    "# next create a socket object \n",
    "s = socket.socket()          \n",
    "print (\"Socket successfully created\")\n",
    "  \n",
    "# reserve a port on your computer in our \n",
    "# case it is 12345 but it can be anything \n",
    "port = 12345                \n",
    "  \n",
    "# Next bind to the port \n",
    "# we have not typed any ip in the ip field \n",
    "# instead we have inputted an empty string \n",
    "# this makes the server listen to requests  \n",
    "# coming from other computers on the network \n",
    "s.bind(('', port))         \n",
    "print (\"socket binded to {}\".format(port)) \n",
    "  \n",
    "# put the socket into listening mode \n",
    "s.listen(5)      \n",
    "print (\"socket is listening\")            \n",
    "  \n",
    "# a forever loop until we interrupt it or  \n",
    "# an error occurs \n",
    "while True: \n",
    "  \n",
    "   # Establish connection with client. \n",
    "   c, addr = s.accept()      \n",
    "   print ('Got connection from', addr) \n",
    "  \n",
    "   # send a thank you message to the client.  \n",
    "   c.send('Thank you for connecting') \n",
    "  \n",
    "   # Close the connection with the client \n",
    "   c.close()"
   ]
  },
  {
   "cell_type": "markdown",
   "metadata": {},
   "source": [
    "## Client"
   ]
  },
  {
   "cell_type": "code",
   "execution_count": null,
   "metadata": {},
   "outputs": [],
   "source": [
    "# Import socket module \n",
    "import socket                \n",
    "  \n",
    "# Create a socket object \n",
    "s = socket.socket()          \n",
    "  \n",
    "# Define the port on which you want to connect \n",
    "port = 12345                \n",
    "  \n",
    "# connect to the server on local computer \n",
    "s.connect(('127.0.0.1', port)) \n",
    "  \n",
    "# receive data from the server \n",
    "print (s.recv(1024)) \n",
    "# close the connection \n",
    "s.close()"
   ]
  }
 ],
 "metadata": {
  "kernelspec": {
   "display_name": "Python 3",
   "language": "python",
   "name": "python3"
  },
  "language_info": {
   "codemirror_mode": {
    "name": "ipython",
    "version": 3
   },
   "file_extension": ".py",
   "mimetype": "text/x-python",
   "name": "python",
   "nbconvert_exporter": "python",
   "pygments_lexer": "ipython3",
   "version": "3.7.1"
  }
 },
 "nbformat": 4,
 "nbformat_minor": 2
}
